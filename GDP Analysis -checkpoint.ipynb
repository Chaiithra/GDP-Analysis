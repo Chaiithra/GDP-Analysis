{
 "cells": [
  {
   "cell_type": "code",
   "execution_count": 1,
   "id": "23cdc914",
   "metadata": {},
   "outputs": [],
   "source": [
    "import pandas as pd\n",
    "import seaborn as sns\n",
    "import matplotlib.pyplot as plt"
   ]
  },
  {
   "cell_type": "code",
   "execution_count": 2,
   "id": "45d4533e",
   "metadata": {},
   "outputs": [],
   "source": [
    "df = pd.read_csv(\"gdp.csv\")"
   ]
  },
  {
   "cell_type": "markdown",
   "id": "64a015dc",
   "metadata": {},
   "source": [
    "# Data Cleaning"
   ]
  },
  {
   "cell_type": "code",
   "execution_count": 3,
   "id": "f83b7323",
   "metadata": {},
   "outputs": [
    {
     "data": {
      "text/html": [
       "<div>\n",
       "<style scoped>\n",
       "    .dataframe tbody tr th:only-of-type {\n",
       "        vertical-align: middle;\n",
       "    }\n",
       "\n",
       "    .dataframe tbody tr th {\n",
       "        vertical-align: top;\n",
       "    }\n",
       "\n",
       "    .dataframe thead th {\n",
       "        text-align: right;\n",
       "    }\n",
       "</style>\n",
       "<table border=\"1\" class=\"dataframe\">\n",
       "  <thead>\n",
       "    <tr style=\"text-align: right;\">\n",
       "      <th></th>\n",
       "      <th>Country Name</th>\n",
       "      <th>Country Code</th>\n",
       "      <th>Year</th>\n",
       "      <th>Value</th>\n",
       "    </tr>\n",
       "  </thead>\n",
       "  <tbody>\n",
       "    <tr>\n",
       "      <th>0</th>\n",
       "      <td>Arab World</td>\n",
       "      <td>ARB</td>\n",
       "      <td>1968</td>\n",
       "      <td>2.576068e+10</td>\n",
       "    </tr>\n",
       "    <tr>\n",
       "      <th>1</th>\n",
       "      <td>Arab World</td>\n",
       "      <td>ARB</td>\n",
       "      <td>1969</td>\n",
       "      <td>2.843420e+10</td>\n",
       "    </tr>\n",
       "    <tr>\n",
       "      <th>2</th>\n",
       "      <td>Arab World</td>\n",
       "      <td>ARB</td>\n",
       "      <td>1970</td>\n",
       "      <td>3.138550e+10</td>\n",
       "    </tr>\n",
       "    <tr>\n",
       "      <th>3</th>\n",
       "      <td>Arab World</td>\n",
       "      <td>ARB</td>\n",
       "      <td>1971</td>\n",
       "      <td>3.642691e+10</td>\n",
       "    </tr>\n",
       "    <tr>\n",
       "      <th>4</th>\n",
       "      <td>Arab World</td>\n",
       "      <td>ARB</td>\n",
       "      <td>1972</td>\n",
       "      <td>4.331606e+10</td>\n",
       "    </tr>\n",
       "    <tr>\n",
       "      <th>5</th>\n",
       "      <td>Arab World</td>\n",
       "      <td>ARB</td>\n",
       "      <td>1973</td>\n",
       "      <td>5.501839e+10</td>\n",
       "    </tr>\n",
       "    <tr>\n",
       "      <th>6</th>\n",
       "      <td>Arab World</td>\n",
       "      <td>ARB</td>\n",
       "      <td>1974</td>\n",
       "      <td>1.051458e+11</td>\n",
       "    </tr>\n",
       "    <tr>\n",
       "      <th>7</th>\n",
       "      <td>Arab World</td>\n",
       "      <td>ARB</td>\n",
       "      <td>1975</td>\n",
       "      <td>1.163370e+11</td>\n",
       "    </tr>\n",
       "    <tr>\n",
       "      <th>8</th>\n",
       "      <td>Arab World</td>\n",
       "      <td>ARB</td>\n",
       "      <td>1976</td>\n",
       "      <td>1.448462e+11</td>\n",
       "    </tr>\n",
       "    <tr>\n",
       "      <th>9</th>\n",
       "      <td>Arab World</td>\n",
       "      <td>ARB</td>\n",
       "      <td>1977</td>\n",
       "      <td>1.673083e+11</td>\n",
       "    </tr>\n",
       "  </tbody>\n",
       "</table>\n",
       "</div>"
      ],
      "text/plain": [
       "  Country Name Country Code  Year         Value\n",
       "0   Arab World          ARB  1968  2.576068e+10\n",
       "1   Arab World          ARB  1969  2.843420e+10\n",
       "2   Arab World          ARB  1970  3.138550e+10\n",
       "3   Arab World          ARB  1971  3.642691e+10\n",
       "4   Arab World          ARB  1972  4.331606e+10\n",
       "5   Arab World          ARB  1973  5.501839e+10\n",
       "6   Arab World          ARB  1974  1.051458e+11\n",
       "7   Arab World          ARB  1975  1.163370e+11\n",
       "8   Arab World          ARB  1976  1.448462e+11\n",
       "9   Arab World          ARB  1977  1.673083e+11"
      ]
     },
     "execution_count": 3,
     "metadata": {},
     "output_type": "execute_result"
    }
   ],
   "source": [
    "df.head(10)"
   ]
  },
  {
   "cell_type": "code",
   "execution_count": 4,
   "id": "8ac7e8d1",
   "metadata": {},
   "outputs": [
    {
     "data": {
      "text/plain": [
       "Country Name    0\n",
       "Country Code    0\n",
       "Year            0\n",
       "Value           0\n",
       "dtype: int64"
      ]
     },
     "execution_count": 4,
     "metadata": {},
     "output_type": "execute_result"
    }
   ],
   "source": [
    "df.isnull().sum()"
   ]
  },
  {
   "cell_type": "code",
   "execution_count": 5,
   "id": "f66e6b37",
   "metadata": {},
   "outputs": [
    {
     "name": "stdout",
     "output_type": "stream",
     "text": [
      "<class 'pandas.core.frame.DataFrame'>\n",
      "RangeIndex: 11507 entries, 0 to 11506\n",
      "Data columns (total 4 columns):\n",
      " #   Column        Non-Null Count  Dtype  \n",
      "---  ------        --------------  -----  \n",
      " 0   Country Name  11507 non-null  object \n",
      " 1   Country Code  11507 non-null  object \n",
      " 2   Year          11507 non-null  int64  \n",
      " 3   Value         11507 non-null  float64\n",
      "dtypes: float64(1), int64(1), object(2)\n",
      "memory usage: 359.7+ KB\n"
     ]
    }
   ],
   "source": [
    "df.info()"
   ]
  },
  {
   "cell_type": "code",
   "execution_count": 6,
   "id": "7feaef9b",
   "metadata": {},
   "outputs": [
    {
     "data": {
      "text/html": [
       "<div>\n",
       "<style scoped>\n",
       "    .dataframe tbody tr th:only-of-type {\n",
       "        vertical-align: middle;\n",
       "    }\n",
       "\n",
       "    .dataframe tbody tr th {\n",
       "        vertical-align: top;\n",
       "    }\n",
       "\n",
       "    .dataframe thead th {\n",
       "        text-align: right;\n",
       "    }\n",
       "</style>\n",
       "<table border=\"1\" class=\"dataframe\">\n",
       "  <thead>\n",
       "    <tr style=\"text-align: right;\">\n",
       "      <th></th>\n",
       "      <th>Year</th>\n",
       "      <th>Value</th>\n",
       "    </tr>\n",
       "  </thead>\n",
       "  <tbody>\n",
       "    <tr>\n",
       "      <th>count</th>\n",
       "      <td>11507.000000</td>\n",
       "      <td>1.150700e+04</td>\n",
       "    </tr>\n",
       "    <tr>\n",
       "      <th>mean</th>\n",
       "      <td>1991.265230</td>\n",
       "      <td>1.005972e+12</td>\n",
       "    </tr>\n",
       "    <tr>\n",
       "      <th>std</th>\n",
       "      <td>15.886648</td>\n",
       "      <td>4.533056e+12</td>\n",
       "    </tr>\n",
       "    <tr>\n",
       "      <th>min</th>\n",
       "      <td>1960.000000</td>\n",
       "      <td>8.824448e+06</td>\n",
       "    </tr>\n",
       "    <tr>\n",
       "      <th>25%</th>\n",
       "      <td>1978.000000</td>\n",
       "      <td>2.056874e+09</td>\n",
       "    </tr>\n",
       "    <tr>\n",
       "      <th>50%</th>\n",
       "      <td>1993.000000</td>\n",
       "      <td>1.436880e+10</td>\n",
       "    </tr>\n",
       "    <tr>\n",
       "      <th>75%</th>\n",
       "      <td>2005.000000</td>\n",
       "      <td>1.796394e+11</td>\n",
       "    </tr>\n",
       "    <tr>\n",
       "      <th>max</th>\n",
       "      <td>2016.000000</td>\n",
       "      <td>7.904923e+13</td>\n",
       "    </tr>\n",
       "  </tbody>\n",
       "</table>\n",
       "</div>"
      ],
      "text/plain": [
       "               Year         Value\n",
       "count  11507.000000  1.150700e+04\n",
       "mean    1991.265230  1.005972e+12\n",
       "std       15.886648  4.533056e+12\n",
       "min     1960.000000  8.824448e+06\n",
       "25%     1978.000000  2.056874e+09\n",
       "50%     1993.000000  1.436880e+10\n",
       "75%     2005.000000  1.796394e+11\n",
       "max     2016.000000  7.904923e+13"
      ]
     },
     "execution_count": 6,
     "metadata": {},
     "output_type": "execute_result"
    }
   ],
   "source": [
    "df.describe()"
   ]
  },
  {
   "cell_type": "code",
   "execution_count": 8,
   "id": "a53f9a3d",
   "metadata": {},
   "outputs": [
    {
     "data": {
      "text/plain": [
       "(11507, 4)"
      ]
     },
     "execution_count": 8,
     "metadata": {},
     "output_type": "execute_result"
    }
   ],
   "source": [
    "df.shape"
   ]
  },
  {
   "cell_type": "markdown",
   "id": "b959b7d0",
   "metadata": {},
   "source": [
    "# UniVariate Analysis"
   ]
  },
  {
   "cell_type": "markdown",
   "id": "18203682",
   "metadata": {},
   "source": [
    "Here the numerical Variables are: Year, GDP Value "
   ]
  },
  {
   "cell_type": "markdown",
   "id": "afbca110",
   "metadata": {},
   "source": [
    "Categorical Variables are: Country Name, Country Code"
   ]
  },
  {
   "cell_type": "markdown",
   "id": "cc3154fd",
   "metadata": {},
   "source": [
    "### Country analysis "
   ]
  },
  {
   "cell_type": "code",
   "execution_count": 68,
   "id": "80f442f9",
   "metadata": {},
   "outputs": [
    {
     "data": {
      "text/plain": [
       "256"
      ]
     },
     "execution_count": 68,
     "metadata": {},
     "output_type": "execute_result"
    }
   ],
   "source": [
    "df[\"Country Name\"].nunique()"
   ]
  },
  {
   "cell_type": "code",
   "execution_count": 90,
   "id": "23709d5f",
   "metadata": {},
   "outputs": [],
   "source": [
    "df1 = pd.DataFrame(df[\"Country Name\"].value_counts()).rename(columns = {'Country Name':'Country Frequency'})\n",
    "df1[\"Index\"]= df1.index\n",
    "df1.reset_index(drop= True,inplace = True)\n",
    "df1.rename(columns ={'Index': 'Country Name'},inplace = True)"
   ]
  },
  {
   "cell_type": "code",
   "execution_count": 92,
   "id": "d8dfcc0f",
   "metadata": {},
   "outputs": [],
   "source": [
    "df1['Country Frequency'],df1['Country Name'] = df1['Country Name'].copy(),df1['Country Frequency'].copy()"
   ]
  },
  {
   "cell_type": "code",
   "execution_count": 178,
   "id": "e3ac578a",
   "metadata": {},
   "outputs": [],
   "source": [
    "df1.rename(columns = {'Country Frequency':'Country Name','Country Name':'Country Frequency'},inplace =True)"
   ]
  },
  {
   "cell_type": "code",
   "execution_count": 55,
   "id": "1f0a598d",
   "metadata": {},
   "outputs": [
    {
     "data": {
      "text/plain": [
       "<Axes: ylabel='Country Name'>"
      ]
     },
     "execution_count": 55,
     "metadata": {},
     "output_type": "execute_result"
    },
    {
     "data": {
      "image/png": "[encoded data removed]",
      "text/plain": [
       "<Figure size 640x480 with 1 Axes>"
      ]
     },
     "metadata": {},
     "output_type": "display_data"
    }
   ],
   "source": [
    "df[\"Country Name\"].value_counts().head(20).plot(kind='pie',autopct='%1.1f%%')"
   ]
  },
  {
   "cell_type": "markdown",
   "id": "90723fcf",
   "metadata": {},
   "source": [
    "### Year Analysis"
   ]
  },
  {
   "cell_type": "code",
   "execution_count": 63,
   "id": "091e408a",
   "metadata": {},
   "outputs": [
    {
     "data": {
      "text/plain": [
       "57"
      ]
     },
     "execution_count": 63,
     "metadata": {},
     "output_type": "execute_result"
    }
   ],
   "source": [
    "df[\"Year\"].nunique()"
   ]
  },
  {
   "cell_type": "code",
   "execution_count": 108,
   "id": "cee0e2ac",
   "metadata": {},
   "outputs": [],
   "source": [
    "df2 = pd.DataFrame(df[\"Year\"].value_counts())\n",
    "df2[\"Index\"]= df2.index\n",
    "df2.reset_index(drop= True,inplace = True)\n",
    "df2=df2.rename(columns = {'Index':'Year Frequency'})\n",
    "df2['Year'],df2['Year Frequency']=df2['Year Frequency'].copy(),df2['Year'].copy()"
   ]
  },
  {
   "cell_type": "code",
   "execution_count": 110,
   "id": "78d4c263",
   "metadata": {},
   "outputs": [
    {
     "data": {
      "text/html": [
       "<div>\n",
       "<style scoped>\n",
       "    .dataframe tbody tr th:only-of-type {\n",
       "        vertical-align: middle;\n",
       "    }\n",
       "\n",
       "    .dataframe tbody tr th {\n",
       "        vertical-align: top;\n",
       "    }\n",
       "\n",
       "    .dataframe thead th {\n",
       "        text-align: right;\n",
       "    }\n",
       "</style>\n",
       "<table border=\"1\" class=\"dataframe\">\n",
       "  <thead>\n",
       "    <tr style=\"text-align: right;\">\n",
       "      <th></th>\n",
       "      <th>Year</th>\n",
       "      <th>Year Frequency</th>\n",
       "    </tr>\n",
       "  </thead>\n",
       "  <tbody>\n",
       "    <tr>\n",
       "      <th>0</th>\n",
       "      <td>2006</td>\n",
       "      <td>251</td>\n",
       "    </tr>\n",
       "    <tr>\n",
       "      <th>1</th>\n",
       "      <td>2007</td>\n",
       "      <td>251</td>\n",
       "    </tr>\n",
       "    <tr>\n",
       "      <th>2</th>\n",
       "      <td>2011</td>\n",
       "      <td>250</td>\n",
       "    </tr>\n",
       "    <tr>\n",
       "      <th>3</th>\n",
       "      <td>2010</td>\n",
       "      <td>250</td>\n",
       "    </tr>\n",
       "    <tr>\n",
       "      <th>4</th>\n",
       "      <td>2008</td>\n",
       "      <td>250</td>\n",
       "    </tr>\n",
       "    <tr>\n",
       "      <th>5</th>\n",
       "      <td>2005</td>\n",
       "      <td>250</td>\n",
       "    </tr>\n",
       "    <tr>\n",
       "      <th>6</th>\n",
       "      <td>2004</td>\n",
       "      <td>250</td>\n",
       "    </tr>\n",
       "    <tr>\n",
       "      <th>7</th>\n",
       "      <td>2009</td>\n",
       "      <td>249</td>\n",
       "    </tr>\n",
       "    <tr>\n",
       "      <th>8</th>\n",
       "      <td>2003</td>\n",
       "      <td>249</td>\n",
       "    </tr>\n",
       "    <tr>\n",
       "      <th>9</th>\n",
       "      <td>2002</td>\n",
       "      <td>249</td>\n",
       "    </tr>\n",
       "  </tbody>\n",
       "</table>\n",
       "</div>"
      ],
      "text/plain": [
       "   Year  Year Frequency\n",
       "0  2006             251\n",
       "1  2007             251\n",
       "2  2011             250\n",
       "3  2010             250\n",
       "4  2008             250\n",
       "5  2005             250\n",
       "6  2004             250\n",
       "7  2009             249\n",
       "8  2003             249\n",
       "9  2002             249"
      ]
     },
     "execution_count": 110,
     "metadata": {},
     "output_type": "execute_result"
    }
   ],
   "source": [
    "df2.head(10)"
   ]
  },
  {
   "cell_type": "code",
   "execution_count": 112,
   "id": "697d96d1",
   "metadata": {},
   "outputs": [
    {
     "data": {
      "text/plain": [
       "<Axes: >"
      ]
     },
     "execution_count": 112,
     "metadata": {},
     "output_type": "execute_result"
    },
    {
     "data": {
      "image/png": "[encoded data removed]",
      "text/plain": [
       "<Figure size 640x480 with 1 Axes>"
      ]
     },
     "metadata": {},
     "output_type": "display_data"
    }
   ],
   "source": [
    "df2['Year'].value_counts().head(20).plot(kind='bar')"
   ]
  },
  {
   "cell_type": "markdown",
   "id": "33337740",
   "metadata": {},
   "source": [
    "### GDP - univariate analysis"
   ]
  },
  {
   "cell_type": "code",
   "execution_count": 113,
   "id": "60887658",
   "metadata": {},
   "outputs": [
    {
     "data": {
      "text/plain": [
       "<Axes: >"
      ]
     },
     "execution_count": 113,
     "metadata": {},
     "output_type": "execute_result"
    },
    {
     "data": {
      "image/png": "[encoded data removed]",
      "text/plain": [
       "<Figure size 640x480 with 1 Axes>"
      ]
     },
     "metadata": {},
     "output_type": "display_data"
    }
   ],
   "source": [
    "df[\"Value\"].plot(kind='box')"
   ]
  },
  {
   "cell_type": "markdown",
   "id": "1d25fa48",
   "metadata": {},
   "source": [
    "# BiVariate Analysis "
   ]
  },
  {
   "cell_type": "code",
   "execution_count": 116,
   "id": "261f76ab",
   "metadata": {},
   "outputs": [
    {
     "data": {
      "text/plain": [
       "array([1960, 1961, 1962, 1963, 1964, 1965, 1966, 1967, 1968, 1969, 1970,\n",
       "       1971, 1972, 1973, 1974, 1975, 1976, 1977, 1978, 1979, 1980, 1981,\n",
       "       1982, 1983, 1984, 1985, 1986, 1987, 1988, 1989, 1990, 1991, 1992,\n",
       "       1993, 1994, 1995, 1996, 1997, 1998, 1999, 2000, 2001, 2002, 2003,\n",
       "       2004, 2005, 2006, 2007, 2008, 2009, 2010, 2011, 2012, 2013, 2014,\n",
       "       2015, 2016], dtype=int64)"
      ]
     },
     "execution_count": 116,
     "metadata": {},
     "output_type": "execute_result"
    }
   ],
   "source": [
    "df['Year'].sort_values().unique()"
   ]
  },
  {
   "cell_type": "code",
   "execution_count": 141,
   "id": "8a9e3a83",
   "metadata": {},
   "outputs": [],
   "source": [
    "df3 = pd.DataFrame()\n",
    "df3['Year']=df['Year'].sort_values().unique()"
   ]
  },
  {
   "cell_type": "code",
   "execution_count": 139,
   "id": "bb87ddde",
   "metadata": {},
   "outputs": [],
   "source": [
    "gdp=[]\n",
    "\n",
    "for i in range(1960,2017):\n",
    "    year_data = df[df['Year']==i]\n",
    "    total_gdp = year_data['Value'].sum()\n",
    "    gdp.append(total_gdp)"
   ]
  },
  {
   "cell_type": "code",
   "execution_count": 142,
   "id": "421c1454",
   "metadata": {},
   "outputs": [],
   "source": [
    "df3['Total_World_GDP_Value']=gdp"
   ]
  },
  {
   "cell_type": "code",
   "execution_count": 144,
   "id": "aabb2c27",
   "metadata": {},
   "outputs": [
    {
     "data": {
      "text/html": [
       "<div>\n",
       "<style scoped>\n",
       "    .dataframe tbody tr th:only-of-type {\n",
       "        vertical-align: middle;\n",
       "    }\n",
       "\n",
       "    .dataframe tbody tr th {\n",
       "        vertical-align: top;\n",
       "    }\n",
       "\n",
       "    .dataframe thead th {\n",
       "        text-align: right;\n",
       "    }\n",
       "</style>\n",
       "<table border=\"1\" class=\"dataframe\">\n",
       "  <thead>\n",
       "    <tr style=\"text-align: right;\">\n",
       "      <th></th>\n",
       "      <th>Year</th>\n",
       "      <th>Total_World_GDP_Value</th>\n",
       "    </tr>\n",
       "  </thead>\n",
       "  <tbody>\n",
       "    <tr>\n",
       "      <th>0</th>\n",
       "      <td>1960</td>\n",
       "      <td>9.936119e+12</td>\n",
       "    </tr>\n",
       "    <tr>\n",
       "      <th>1</th>\n",
       "      <td>1961</td>\n",
       "      <td>1.024753e+13</td>\n",
       "    </tr>\n",
       "    <tr>\n",
       "      <th>2</th>\n",
       "      <td>1962</td>\n",
       "      <td>1.101555e+13</td>\n",
       "    </tr>\n",
       "    <tr>\n",
       "      <th>3</th>\n",
       "      <td>1963</td>\n",
       "      <td>1.187346e+13</td>\n",
       "    </tr>\n",
       "    <tr>\n",
       "      <th>4</th>\n",
       "      <td>1964</td>\n",
       "      <td>1.305057e+13</td>\n",
       "    </tr>\n",
       "    <tr>\n",
       "      <th>5</th>\n",
       "      <td>1965</td>\n",
       "      <td>1.439380e+13</td>\n",
       "    </tr>\n",
       "    <tr>\n",
       "      <th>6</th>\n",
       "      <td>1966</td>\n",
       "      <td>1.554260e+13</td>\n",
       "    </tr>\n",
       "    <tr>\n",
       "      <th>7</th>\n",
       "      <td>1967</td>\n",
       "      <td>1.646886e+13</td>\n",
       "    </tr>\n",
       "    <tr>\n",
       "      <th>8</th>\n",
       "      <td>1968</td>\n",
       "      <td>1.773913e+13</td>\n",
       "    </tr>\n",
       "    <tr>\n",
       "      <th>9</th>\n",
       "      <td>1969</td>\n",
       "      <td>1.957720e+13</td>\n",
       "    </tr>\n",
       "  </tbody>\n",
       "</table>\n",
       "</div>"
      ],
      "text/plain": [
       "   Year  Total_World_GDP_Value\n",
       "0  1960           9.936119e+12\n",
       "1  1961           1.024753e+13\n",
       "2  1962           1.101555e+13\n",
       "3  1963           1.187346e+13\n",
       "4  1964           1.305057e+13\n",
       "5  1965           1.439380e+13\n",
       "6  1966           1.554260e+13\n",
       "7  1967           1.646886e+13\n",
       "8  1968           1.773913e+13\n",
       "9  1969           1.957720e+13"
      ]
     },
     "execution_count": 144,
     "metadata": {},
     "output_type": "execute_result"
    }
   ],
   "source": [
    "df3.head(10)"
   ]
  },
  {
   "cell_type": "code",
   "execution_count": 158,
   "id": "cc0c397e",
   "metadata": {},
   "outputs": [
    {
     "data": {
      "text/html": [
       "<div>\n",
       "<style scoped>\n",
       "    .dataframe tbody tr th:only-of-type {\n",
       "        vertical-align: middle;\n",
       "    }\n",
       "\n",
       "    .dataframe tbody tr th {\n",
       "        vertical-align: top;\n",
       "    }\n",
       "\n",
       "    .dataframe thead th {\n",
       "        text-align: right;\n",
       "    }\n",
       "</style>\n",
       "<table border=\"1\" class=\"dataframe\">\n",
       "  <thead>\n",
       "    <tr style=\"text-align: right;\">\n",
       "      <th></th>\n",
       "      <th>Year</th>\n",
       "      <th>Total_World_GDP_Value</th>\n",
       "    </tr>\n",
       "  </thead>\n",
       "  <tbody>\n",
       "    <tr>\n",
       "      <th>count</th>\n",
       "      <td>57.000000</td>\n",
       "      <td>5.700000e+01</td>\n",
       "    </tr>\n",
       "    <tr>\n",
       "      <th>mean</th>\n",
       "      <td>1988.000000</td>\n",
       "      <td>2.030829e+14</td>\n",
       "    </tr>\n",
       "    <tr>\n",
       "      <th>std</th>\n",
       "      <td>16.598193</td>\n",
       "      <td>1.998332e+14</td>\n",
       "    </tr>\n",
       "    <tr>\n",
       "      <th>min</th>\n",
       "      <td>1960.000000</td>\n",
       "      <td>9.936119e+12</td>\n",
       "    </tr>\n",
       "    <tr>\n",
       "      <th>25%</th>\n",
       "      <td>1974.000000</td>\n",
       "      <td>3.971273e+13</td>\n",
       "    </tr>\n",
       "    <tr>\n",
       "      <th>50%</th>\n",
       "      <td>1988.000000</td>\n",
       "      <td>1.383952e+14</td>\n",
       "    </tr>\n",
       "    <tr>\n",
       "      <th>75%</th>\n",
       "      <td>2002.000000</td>\n",
       "      <td>2.571518e+14</td>\n",
       "    </tr>\n",
       "    <tr>\n",
       "      <th>max</th>\n",
       "      <td>2016.000000</td>\n",
       "      <td>6.568305e+14</td>\n",
       "    </tr>\n",
       "  </tbody>\n",
       "</table>\n",
       "</div>"
      ],
      "text/plain": [
       "              Year  Total_World_GDP_Value\n",
       "count    57.000000           5.700000e+01\n",
       "mean   1988.000000           2.030829e+14\n",
       "std      16.598193           1.998332e+14\n",
       "min    1960.000000           9.936119e+12\n",
       "25%    1974.000000           3.971273e+13\n",
       "50%    1988.000000           1.383952e+14\n",
       "75%    2002.000000           2.571518e+14\n",
       "max    2016.000000           6.568305e+14"
      ]
     },
     "execution_count": 158,
     "metadata": {},
     "output_type": "execute_result"
    }
   ],
   "source": [
    "df3.describe()"
   ]
  },
  {
   "cell_type": "markdown",
   "id": "b35ad9b0",
   "metadata": {},
   "source": [
    "## Trend of Total GDP Value of the world over the years 1960 - 2016"
   ]
  },
  {
   "cell_type": "code",
   "execution_count": 148,
   "id": "ab9b4dd1",
   "metadata": {},
   "outputs": [
    {
     "data": {
      "text/plain": [
       "<Axes: xlabel='Year', ylabel='Total_World_GDP_Value'>"
      ]
     },
     "execution_count": 148,
     "metadata": {},
     "output_type": "execute_result"
    },
    {
     "data": {
      "image/png": "[encoded data removed]",
      "text/plain": [
       "<Figure size 640x480 with 1 Axes>"
      ]
     },
     "metadata": {},
     "output_type": "display_data"
    }
   ],
   "source": [
    "sns.lineplot(data = df3, x = 'Year',y='Total_World_GDP_Value')"
   ]
  },
  {
   "cell_type": "code",
   "execution_count": 153,
   "id": "61a0a178",
   "metadata": {},
   "outputs": [],
   "source": [
    "max_gdp_row = df3.iloc[df3['Total_World_GDP_Value'].idxmax()]"
   ]
  },
  {
   "cell_type": "code",
   "execution_count": 154,
   "id": "674296f6",
   "metadata": {},
   "outputs": [
    {
     "data": {
      "text/plain": [
       "Year                     2.014000e+03\n",
       "Total_World_GDP_Value    6.568305e+14\n",
       "Name: 54, dtype: float64"
      ]
     },
     "execution_count": 154,
     "metadata": {},
     "output_type": "execute_result"
    }
   ],
   "source": [
    "max_gdp_row"
   ]
  },
  {
   "cell_type": "markdown",
   "id": "24c41943",
   "metadata": {},
   "source": [
    "##### Total world GDP was maximum in the year 2014 "
   ]
  },
  {
   "cell_type": "markdown",
   "id": "cd0215a8",
   "metadata": {},
   "source": [
    "##### It's value being 6.568305e+14"
   ]
  },
  {
   "cell_type": "markdown",
   "id": "8b1b1091",
   "metadata": {},
   "source": [
    "# Percentage change in the Total GDP of the World y-o-y basis"
   ]
  },
  {
   "cell_type": "code",
   "execution_count": 169,
   "id": "ece2a9a6",
   "metadata": {
    "scrolled": true
   },
   "outputs": [],
   "source": [
    "df3['Percentage_change'] =0\n",
    "\n",
    "for i in range(1,len(df3)):\n",
    "    \n",
    "    old_value = df3.loc[i-1,'Total_World_GDP_Value']\n",
    "    new_value = df3.loc[i,'Total_World_GDP_Value']\n",
    "    \n",
    "    percent_change = ((new_value - old_value)/old_value)*100\n",
    "    \n",
    "    df3.at[i,'Percentage_change'] = percent_change"
   ]
  },
  {
   "cell_type": "markdown",
   "id": "233be596",
   "metadata": {},
   "source": [
    "#### We can also use in-built function "
   ]
  },
  {
   "cell_type": "markdown",
   "id": "fd400d0e",
   "metadata": {},
   "source": [
    " df['Percentage_change']=df['Total_World_GDP_Value'].pct_change()*100"
   ]
  },
  {
   "cell_type": "code",
   "execution_count": 171,
   "id": "527d37ac",
   "metadata": {},
   "outputs": [
    {
     "data": {
      "text/html": [
       "<div>\n",
       "<style scoped>\n",
       "    .dataframe tbody tr th:only-of-type {\n",
       "        vertical-align: middle;\n",
       "    }\n",
       "\n",
       "    .dataframe tbody tr th {\n",
       "        vertical-align: top;\n",
       "    }\n",
       "\n",
       "    .dataframe thead th {\n",
       "        text-align: right;\n",
       "    }\n",
       "</style>\n",
       "<table border=\"1\" class=\"dataframe\">\n",
       "  <thead>\n",
       "    <tr style=\"text-align: right;\">\n",
       "      <th></th>\n",
       "      <th>Year</th>\n",
       "      <th>Total_World_GDP_Value</th>\n",
       "      <th>Percentage_change</th>\n",
       "    </tr>\n",
       "  </thead>\n",
       "  <tbody>\n",
       "    <tr>\n",
       "      <th>0</th>\n",
       "      <td>1960</td>\n",
       "      <td>9.936119e+12</td>\n",
       "      <td>0.000000</td>\n",
       "    </tr>\n",
       "    <tr>\n",
       "      <th>1</th>\n",
       "      <td>1961</td>\n",
       "      <td>1.024753e+13</td>\n",
       "      <td>3.134156</td>\n",
       "    </tr>\n",
       "    <tr>\n",
       "      <th>2</th>\n",
       "      <td>1962</td>\n",
       "      <td>1.101555e+13</td>\n",
       "      <td>7.494631</td>\n",
       "    </tr>\n",
       "    <tr>\n",
       "      <th>3</th>\n",
       "      <td>1963</td>\n",
       "      <td>1.187346e+13</td>\n",
       "      <td>7.788153</td>\n",
       "    </tr>\n",
       "    <tr>\n",
       "      <th>4</th>\n",
       "      <td>1964</td>\n",
       "      <td>1.305057e+13</td>\n",
       "      <td>9.913866</td>\n",
       "    </tr>\n",
       "    <tr>\n",
       "      <th>5</th>\n",
       "      <td>1965</td>\n",
       "      <td>1.439380e+13</td>\n",
       "      <td>10.292494</td>\n",
       "    </tr>\n",
       "    <tr>\n",
       "      <th>6</th>\n",
       "      <td>1966</td>\n",
       "      <td>1.554260e+13</td>\n",
       "      <td>7.981191</td>\n",
       "    </tr>\n",
       "    <tr>\n",
       "      <th>7</th>\n",
       "      <td>1967</td>\n",
       "      <td>1.646886e+13</td>\n",
       "      <td>5.959502</td>\n",
       "    </tr>\n",
       "    <tr>\n",
       "      <th>8</th>\n",
       "      <td>1968</td>\n",
       "      <td>1.773913e+13</td>\n",
       "      <td>7.713136</td>\n",
       "    </tr>\n",
       "    <tr>\n",
       "      <th>9</th>\n",
       "      <td>1969</td>\n",
       "      <td>1.957720e+13</td>\n",
       "      <td>10.361692</td>\n",
       "    </tr>\n",
       "  </tbody>\n",
       "</table>\n",
       "</div>"
      ],
      "text/plain": [
       "   Year  Total_World_GDP_Value  Percentage_change\n",
       "0  1960           9.936119e+12           0.000000\n",
       "1  1961           1.024753e+13           3.134156\n",
       "2  1962           1.101555e+13           7.494631\n",
       "3  1963           1.187346e+13           7.788153\n",
       "4  1964           1.305057e+13           9.913866\n",
       "5  1965           1.439380e+13          10.292494\n",
       "6  1966           1.554260e+13           7.981191\n",
       "7  1967           1.646886e+13           5.959502\n",
       "8  1968           1.773913e+13           7.713136\n",
       "9  1969           1.957720e+13          10.361692"
      ]
     },
     "execution_count": 171,
     "metadata": {},
     "output_type": "execute_result"
    }
   ],
   "source": [
    "df3.head(10)"
   ]
  },
  {
   "cell_type": "code",
   "execution_count": 172,
   "id": "ac077280",
   "metadata": {},
   "outputs": [
    {
     "data": {
      "text/plain": [
       "<Axes: xlabel='Year', ylabel='Percentage_change'>"
      ]
     },
     "execution_count": 172,
     "metadata": {},
     "output_type": "execute_result"
    },
    {
     "data": {
      "image/png": "[encoded data removed]",
      "text/plain": [
       "<Figure size 640x480 with 1 Axes>"
      ]
     },
     "metadata": {},
     "output_type": "display_data"
    }
   ],
   "source": [
    "sns.lineplot(data = df3, x ='Year',y='Percentage_change')"
   ]
  },
  {
   "cell_type": "markdown",
   "id": "cef5abe4",
   "metadata": {},
   "source": [
    "# Percentage in the Total GDP of a country y-o-y basis"
   ]
  },
  {
   "cell_type": "code",
   "execution_count": 173,
   "id": "127f095a",
   "metadata": {},
   "outputs": [],
   "source": [
    "df4 = pd.DataFrame()"
   ]
  },
  {
   "cell_type": "code",
   "execution_count": 182,
   "id": "8aadd261",
   "metadata": {},
   "outputs": [],
   "source": [
    "df4['Country Name']= df1['Country Name']"
   ]
  },
  {
   "cell_type": "code",
   "execution_count": 217,
   "id": "4e053eb2",
   "metadata": {},
   "outputs": [],
   "source": [
    "df4.drop(columns = \"Total_Country's_gdp\",inplace = True)"
   ]
  },
  {
   "cell_type": "code",
   "execution_count": 219,
   "id": "f2028553",
   "metadata": {},
   "outputs": [
    {
     "data": {
      "text/html": [
       "<div>\n",
       "<style scoped>\n",
       "    .dataframe tbody tr th:only-of-type {\n",
       "        vertical-align: middle;\n",
       "    }\n",
       "\n",
       "    .dataframe tbody tr th {\n",
       "        vertical-align: top;\n",
       "    }\n",
       "\n",
       "    .dataframe thead th {\n",
       "        text-align: right;\n",
       "    }\n",
       "</style>\n",
       "<table border=\"1\" class=\"dataframe\">\n",
       "  <thead>\n",
       "    <tr style=\"text-align: right;\">\n",
       "      <th></th>\n",
       "      <th>Country Name</th>\n",
       "    </tr>\n",
       "  </thead>\n",
       "  <tbody>\n",
       "    <tr>\n",
       "      <th>0</th>\n",
       "      <td>Hong Kong SAR, China</td>\n",
       "    </tr>\n",
       "    <tr>\n",
       "      <th>1</th>\n",
       "      <td>Jamaica</td>\n",
       "    </tr>\n",
       "    <tr>\n",
       "      <th>2</th>\n",
       "      <td>Honduras</td>\n",
       "    </tr>\n",
       "    <tr>\n",
       "      <th>3</th>\n",
       "      <td>Caribbean small states</td>\n",
       "    </tr>\n",
       "    <tr>\n",
       "      <th>4</th>\n",
       "      <td>Iceland</td>\n",
       "    </tr>\n",
       "    <tr>\n",
       "      <th>...</th>\n",
       "      <td>...</td>\n",
       "    </tr>\n",
       "    <tr>\n",
       "      <th>251</th>\n",
       "      <td>Channel Islands</td>\n",
       "    </tr>\n",
       "    <tr>\n",
       "      <th>252</th>\n",
       "      <td>Nauru</td>\n",
       "    </tr>\n",
       "    <tr>\n",
       "      <th>253</th>\n",
       "      <td>South Sudan</td>\n",
       "    </tr>\n",
       "    <tr>\n",
       "      <th>254</th>\n",
       "      <td>Somalia</td>\n",
       "    </tr>\n",
       "    <tr>\n",
       "      <th>255</th>\n",
       "      <td>Cayman Islands</td>\n",
       "    </tr>\n",
       "  </tbody>\n",
       "</table>\n",
       "<p>256 rows × 1 columns</p>\n",
       "</div>"
      ],
      "text/plain": [
       "               Country Name\n",
       "0      Hong Kong SAR, China\n",
       "1                   Jamaica\n",
       "2                  Honduras\n",
       "3    Caribbean small states\n",
       "4                   Iceland\n",
       "..                      ...\n",
       "251         Channel Islands\n",
       "252                   Nauru\n",
       "253             South Sudan\n",
       "254                 Somalia\n",
       "255          Cayman Islands\n",
       "\n",
       "[256 rows x 1 columns]"
      ]
     },
     "execution_count": 219,
     "metadata": {},
     "output_type": "execute_result"
    }
   ],
   "source": [
    "df4"
   ]
  },
  {
   "cell_type": "code",
   "execution_count": 222,
   "id": "17a9c6dc",
   "metadata": {},
   "outputs": [
    {
     "data": {
      "text/plain": [
       "'Hong Kong SAR, China'"
      ]
     },
     "execution_count": 222,
     "metadata": {},
     "output_type": "execute_result"
    }
   ],
   "source": [
    "df4['Country Name'][0]"
   ]
  },
  {
   "cell_type": "code",
   "execution_count": 235,
   "id": "ae010e2e",
   "metadata": {},
   "outputs": [],
   "source": [
    "for year in range(1961,2016):\n",
    "    df4[str(year)]= None"
   ]
  },
  {
   "cell_type": "code",
   "execution_count": null,
   "id": "66d493cd",
   "metadata": {},
   "outputs": [],
   "source": [
    "for i in range(len(df4)):\n",
    "    k = df4['Country Name'][i]\n",
    "    for j in range(len(df4)):\n",
    "        l = 1960+j\n",
    "        old_value = df[df['Year']==l]['Value']\n",
    "        new_value = df[df['Year']==l+1]['Value']\n",
    "        change = ((new_value - old_value)/old_value)*100\n",
    "        df4.loc[k,l+1] = change\n",
    "        "
   ]
  },
  {
   "cell_type": "code",
   "execution_count": 247,
   "id": "41b9f210",
   "metadata": {},
   "outputs": [
    {
     "data": {
      "text/plain": [
       "49      NaN\n",
       "50      NaN\n",
       "133     NaN\n",
       "134     NaN\n",
       "190     NaN\n",
       "         ..\n",
       "11296   NaN\n",
       "11393   NaN\n",
       "11394   NaN\n",
       "11450   NaN\n",
       "11451   NaN\n",
       "Name: Value, Length: 264, dtype: float64"
      ]
     },
     "execution_count": 247,
     "metadata": {},
     "output_type": "execute_result"
    }
   ],
   "source": [
    "df4.at[0,'1961']"
   ]
  },
  {
   "cell_type": "code",
   "execution_count": 248,
   "id": "97f384ba",
   "metadata": {},
   "outputs": [
    {
     "data": {
      "text/html": [
       "<div>\n",
       "<style scoped>\n",
       "    .dataframe tbody tr th:only-of-type {\n",
       "        vertical-align: middle;\n",
       "    }\n",
       "\n",
       "    .dataframe tbody tr th {\n",
       "        vertical-align: top;\n",
       "    }\n",
       "\n",
       "    .dataframe thead th {\n",
       "        text-align: right;\n",
       "    }\n",
       "</style>\n",
       "<table border=\"1\" class=\"dataframe\">\n",
       "  <thead>\n",
       "    <tr style=\"text-align: right;\">\n",
       "      <th></th>\n",
       "      <th>Country Name</th>\n",
       "      <th>1961</th>\n",
       "      <th>1962</th>\n",
       "      <th>1963</th>\n",
       "      <th>1964</th>\n",
       "      <th>1965</th>\n",
       "      <th>1966</th>\n",
       "      <th>1967</th>\n",
       "      <th>1968</th>\n",
       "      <th>1969</th>\n",
       "      <th>...</th>\n",
       "      <th>2007</th>\n",
       "      <th>2008</th>\n",
       "      <th>2009</th>\n",
       "      <th>2010</th>\n",
       "      <th>2011</th>\n",
       "      <th>2012</th>\n",
       "      <th>2013</th>\n",
       "      <th>2014</th>\n",
       "      <th>2015</th>\n",
       "      <th>2016</th>\n",
       "    </tr>\n",
       "  </thead>\n",
       "  <tbody>\n",
       "    <tr>\n",
       "      <th>0</th>\n",
       "      <td>Hong Kong SAR, China</td>\n",
       "      <td>49      NaN\n",
       "50      NaN\n",
       "133     NaN\n",
       "134     Na...</td>\n",
       "      <td>50      NaN\n",
       "51      NaN\n",
       "134     NaN\n",
       "135     Na...</td>\n",
       "      <td>51      NaN\n",
       "52      NaN\n",
       "135     NaN\n",
       "136     Na...</td>\n",
       "      <td>52      NaN\n",
       "53      NaN\n",
       "136     NaN\n",
       "137     Na...</td>\n",
       "      <td>53      NaN\n",
       "54      NaN\n",
       "137     NaN\n",
       "138     Na...</td>\n",
       "      <td>54      NaN\n",
       "55      NaN\n",
       "138     NaN\n",
       "139     Na...</td>\n",
       "      <td>55      NaN\n",
       "56      NaN\n",
       "139     NaN\n",
       "140     Na...</td>\n",
       "      <td>0       NaN\n",
       "56      NaN\n",
       "57      NaN\n",
       "140     Na...</td>\n",
       "      <td>0       NaN\n",
       "1       NaN\n",
       "57      NaN\n",
       "58      Na...</td>\n",
       "      <td>...</td>\n",
       "      <td>38      NaN\n",
       "39      NaN\n",
       "95      NaN\n",
       "96      Na...</td>\n",
       "      <td>39      NaN\n",
       "40      NaN\n",
       "96      NaN\n",
       "97      Na...</td>\n",
       "      <td>40      NaN\n",
       "41      NaN\n",
       "97      NaN\n",
       "98      Na...</td>\n",
       "      <td>41      NaN\n",
       "42      NaN\n",
       "98      NaN\n",
       "99      Na...</td>\n",
       "      <td>42      NaN\n",
       "43      NaN\n",
       "99      NaN\n",
       "100     Na...</td>\n",
       "      <td>43      NaN\n",
       "44      NaN\n",
       "100     NaN\n",
       "101     Na...</td>\n",
       "      <td>44      NaN\n",
       "45      NaN\n",
       "101     NaN\n",
       "102     Na...</td>\n",
       "      <td>45      NaN\n",
       "46      NaN\n",
       "102     NaN\n",
       "103     Na...</td>\n",
       "      <td>46      NaN\n",
       "47      NaN\n",
       "103     NaN\n",
       "104     Na...</td>\n",
       "      <td>NaN</td>\n",
       "    </tr>\n",
       "    <tr>\n",
       "      <th>1</th>\n",
       "      <td>Jamaica</td>\n",
       "      <td>None</td>\n",
       "      <td>None</td>\n",
       "      <td>None</td>\n",
       "      <td>None</td>\n",
       "      <td>None</td>\n",
       "      <td>None</td>\n",
       "      <td>None</td>\n",
       "      <td>None</td>\n",
       "      <td>None</td>\n",
       "      <td>...</td>\n",
       "      <td>None</td>\n",
       "      <td>None</td>\n",
       "      <td>None</td>\n",
       "      <td>None</td>\n",
       "      <td>None</td>\n",
       "      <td>None</td>\n",
       "      <td>None</td>\n",
       "      <td>None</td>\n",
       "      <td>None</td>\n",
       "      <td>NaN</td>\n",
       "    </tr>\n",
       "    <tr>\n",
       "      <th>2</th>\n",
       "      <td>Honduras</td>\n",
       "      <td>None</td>\n",
       "      <td>None</td>\n",
       "      <td>None</td>\n",
       "      <td>None</td>\n",
       "      <td>None</td>\n",
       "      <td>None</td>\n",
       "      <td>None</td>\n",
       "      <td>None</td>\n",
       "      <td>None</td>\n",
       "      <td>...</td>\n",
       "      <td>None</td>\n",
       "      <td>None</td>\n",
       "      <td>None</td>\n",
       "      <td>None</td>\n",
       "      <td>None</td>\n",
       "      <td>None</td>\n",
       "      <td>None</td>\n",
       "      <td>None</td>\n",
       "      <td>None</td>\n",
       "      <td>NaN</td>\n",
       "    </tr>\n",
       "    <tr>\n",
       "      <th>3</th>\n",
       "      <td>Caribbean small states</td>\n",
       "      <td>None</td>\n",
       "      <td>None</td>\n",
       "      <td>None</td>\n",
       "      <td>None</td>\n",
       "      <td>None</td>\n",
       "      <td>None</td>\n",
       "      <td>None</td>\n",
       "      <td>None</td>\n",
       "      <td>None</td>\n",
       "      <td>...</td>\n",
       "      <td>None</td>\n",
       "      <td>None</td>\n",
       "      <td>None</td>\n",
       "      <td>None</td>\n",
       "      <td>None</td>\n",
       "      <td>None</td>\n",
       "      <td>None</td>\n",
       "      <td>None</td>\n",
       "      <td>None</td>\n",
       "      <td>NaN</td>\n",
       "    </tr>\n",
       "    <tr>\n",
       "      <th>4</th>\n",
       "      <td>Iceland</td>\n",
       "      <td>None</td>\n",
       "      <td>None</td>\n",
       "      <td>None</td>\n",
       "      <td>None</td>\n",
       "      <td>None</td>\n",
       "      <td>None</td>\n",
       "      <td>None</td>\n",
       "      <td>None</td>\n",
       "      <td>None</td>\n",
       "      <td>...</td>\n",
       "      <td>None</td>\n",
       "      <td>None</td>\n",
       "      <td>None</td>\n",
       "      <td>None</td>\n",
       "      <td>None</td>\n",
       "      <td>None</td>\n",
       "      <td>None</td>\n",
       "      <td>None</td>\n",
       "      <td>None</td>\n",
       "      <td>NaN</td>\n",
       "    </tr>\n",
       "    <tr>\n",
       "      <th>...</th>\n",
       "      <td>...</td>\n",
       "      <td>...</td>\n",
       "      <td>...</td>\n",
       "      <td>...</td>\n",
       "      <td>...</td>\n",
       "      <td>...</td>\n",
       "      <td>...</td>\n",
       "      <td>...</td>\n",
       "      <td>...</td>\n",
       "      <td>...</td>\n",
       "      <td>...</td>\n",
       "      <td>...</td>\n",
       "      <td>...</td>\n",
       "      <td>...</td>\n",
       "      <td>...</td>\n",
       "      <td>...</td>\n",
       "      <td>...</td>\n",
       "      <td>...</td>\n",
       "      <td>...</td>\n",
       "      <td>...</td>\n",
       "      <td>...</td>\n",
       "    </tr>\n",
       "    <tr>\n",
       "      <th>251</th>\n",
       "      <td>Channel Islands</td>\n",
       "      <td>None</td>\n",
       "      <td>None</td>\n",
       "      <td>None</td>\n",
       "      <td>None</td>\n",
       "      <td>None</td>\n",
       "      <td>None</td>\n",
       "      <td>None</td>\n",
       "      <td>None</td>\n",
       "      <td>None</td>\n",
       "      <td>...</td>\n",
       "      <td>None</td>\n",
       "      <td>None</td>\n",
       "      <td>None</td>\n",
       "      <td>None</td>\n",
       "      <td>None</td>\n",
       "      <td>None</td>\n",
       "      <td>None</td>\n",
       "      <td>None</td>\n",
       "      <td>None</td>\n",
       "      <td>NaN</td>\n",
       "    </tr>\n",
       "    <tr>\n",
       "      <th>252</th>\n",
       "      <td>Nauru</td>\n",
       "      <td>None</td>\n",
       "      <td>None</td>\n",
       "      <td>None</td>\n",
       "      <td>None</td>\n",
       "      <td>None</td>\n",
       "      <td>None</td>\n",
       "      <td>None</td>\n",
       "      <td>None</td>\n",
       "      <td>None</td>\n",
       "      <td>...</td>\n",
       "      <td>None</td>\n",
       "      <td>None</td>\n",
       "      <td>None</td>\n",
       "      <td>None</td>\n",
       "      <td>None</td>\n",
       "      <td>None</td>\n",
       "      <td>None</td>\n",
       "      <td>None</td>\n",
       "      <td>None</td>\n",
       "      <td>NaN</td>\n",
       "    </tr>\n",
       "    <tr>\n",
       "      <th>253</th>\n",
       "      <td>South Sudan</td>\n",
       "      <td>None</td>\n",
       "      <td>None</td>\n",
       "      <td>None</td>\n",
       "      <td>None</td>\n",
       "      <td>None</td>\n",
       "      <td>None</td>\n",
       "      <td>None</td>\n",
       "      <td>None</td>\n",
       "      <td>None</td>\n",
       "      <td>...</td>\n",
       "      <td>None</td>\n",
       "      <td>None</td>\n",
       "      <td>None</td>\n",
       "      <td>None</td>\n",
       "      <td>None</td>\n",
       "      <td>None</td>\n",
       "      <td>None</td>\n",
       "      <td>None</td>\n",
       "      <td>None</td>\n",
       "      <td>NaN</td>\n",
       "    </tr>\n",
       "    <tr>\n",
       "      <th>254</th>\n",
       "      <td>Somalia</td>\n",
       "      <td>None</td>\n",
       "      <td>None</td>\n",
       "      <td>None</td>\n",
       "      <td>None</td>\n",
       "      <td>None</td>\n",
       "      <td>None</td>\n",
       "      <td>None</td>\n",
       "      <td>None</td>\n",
       "      <td>None</td>\n",
       "      <td>...</td>\n",
       "      <td>None</td>\n",
       "      <td>None</td>\n",
       "      <td>None</td>\n",
       "      <td>None</td>\n",
       "      <td>None</td>\n",
       "      <td>None</td>\n",
       "      <td>None</td>\n",
       "      <td>None</td>\n",
       "      <td>None</td>\n",
       "      <td>NaN</td>\n",
       "    </tr>\n",
       "    <tr>\n",
       "      <th>255</th>\n",
       "      <td>Cayman Islands</td>\n",
       "      <td>None</td>\n",
       "      <td>None</td>\n",
       "      <td>None</td>\n",
       "      <td>None</td>\n",
       "      <td>None</td>\n",
       "      <td>None</td>\n",
       "      <td>None</td>\n",
       "      <td>None</td>\n",
       "      <td>None</td>\n",
       "      <td>...</td>\n",
       "      <td>None</td>\n",
       "      <td>None</td>\n",
       "      <td>None</td>\n",
       "      <td>None</td>\n",
       "      <td>None</td>\n",
       "      <td>None</td>\n",
       "      <td>None</td>\n",
       "      <td>None</td>\n",
       "      <td>None</td>\n",
       "      <td>NaN</td>\n",
       "    </tr>\n",
       "  </tbody>\n",
       "</table>\n",
       "<p>256 rows × 57 columns</p>\n",
       "</div>"
      ],
      "text/plain": [
       "               Country Name  \\\n",
       "0      Hong Kong SAR, China   \n",
       "1                   Jamaica   \n",
       "2                  Honduras   \n",
       "3    Caribbean small states   \n",
       "4                   Iceland   \n",
       "..                      ...   \n",
       "251         Channel Islands   \n",
       "252                   Nauru   \n",
       "253             South Sudan   \n",
       "254                 Somalia   \n",
       "255          Cayman Islands   \n",
       "\n",
       "                                                  1961  \\\n",
       "0    49      NaN\n",
       "50      NaN\n",
       "133     NaN\n",
       "134     Na...   \n",
       "1                                                 None   \n",
       "2                                                 None   \n",
       "3                                                 None   \n",
       "4                                                 None   \n",
       "..                                                 ...   \n",
       "251                                               None   \n",
       "252                                               None   \n",
       "253                                               None   \n",
       "254                                               None   \n",
       "255                                               None   \n",
       "\n",
       "                                                  1962  \\\n",
       "0    50      NaN\n",
       "51      NaN\n",
       "134     NaN\n",
       "135     Na...   \n",
       "1                                                 None   \n",
       "2                                                 None   \n",
       "3                                                 None   \n",
       "4                                                 None   \n",
       "..                                                 ...   \n",
       "251                                               None   \n",
       "252                                               None   \n",
       "253                                               None   \n",
       "254                                               None   \n",
       "255                                               None   \n",
       "\n",
       "                                                  1963  \\\n",
       "0    51      NaN\n",
       "52      NaN\n",
       "135     NaN\n",
       "136     Na...   \n",
       "1                                                 None   \n",
       "2                                                 None   \n",
       "3                                                 None   \n",
       "4                                                 None   \n",
       "..                                                 ...   \n",
       "251                                               None   \n",
       "252                                               None   \n",
       "253                                               None   \n",
       "254                                               None   \n",
       "255                                               None   \n",
       "\n",
       "                                                  1964  \\\n",
       "0    52      NaN\n",
       "53      NaN\n",
       "136     NaN\n",
       "137     Na...   \n",
       "1                                                 None   \n",
       "2                                                 None   \n",
       "3                                                 None   \n",
       "4                                                 None   \n",
       "..                                                 ...   \n",
       "251                                               None   \n",
       "252                                               None   \n",
       "253                                               None   \n",
       "254                                               None   \n",
       "255                                               None   \n",
       "\n",
       "                                                  1965  \\\n",
       "0    53      NaN\n",
       "54      NaN\n",
       "137     NaN\n",
       "138     Na...   \n",
       "1                                                 None   \n",
       "2                                                 None   \n",
       "3                                                 None   \n",
       "4                                                 None   \n",
       "..                                                 ...   \n",
       "251                                               None   \n",
       "252                                               None   \n",
       "253                                               None   \n",
       "254                                               None   \n",
       "255                                               None   \n",
       "\n",
       "                                                  1966  \\\n",
       "0    54      NaN\n",
       "55      NaN\n",
       "138     NaN\n",
       "139     Na...   \n",
       "1                                                 None   \n",
       "2                                                 None   \n",
       "3                                                 None   \n",
       "4                                                 None   \n",
       "..                                                 ...   \n",
       "251                                               None   \n",
       "252                                               None   \n",
       "253                                               None   \n",
       "254                                               None   \n",
       "255                                               None   \n",
       "\n",
       "                                                  1967  \\\n",
       "0    55      NaN\n",
       "56      NaN\n",
       "139     NaN\n",
       "140     Na...   \n",
       "1                                                 None   \n",
       "2                                                 None   \n",
       "3                                                 None   \n",
       "4                                                 None   \n",
       "..                                                 ...   \n",
       "251                                               None   \n",
       "252                                               None   \n",
       "253                                               None   \n",
       "254                                               None   \n",
       "255                                               None   \n",
       "\n",
       "                                                  1968  \\\n",
       "0    0       NaN\n",
       "56      NaN\n",
       "57      NaN\n",
       "140     Na...   \n",
       "1                                                 None   \n",
       "2                                                 None   \n",
       "3                                                 None   \n",
       "4                                                 None   \n",
       "..                                                 ...   \n",
       "251                                               None   \n",
       "252                                               None   \n",
       "253                                               None   \n",
       "254                                               None   \n",
       "255                                               None   \n",
       "\n",
       "                                                  1969  ...  \\\n",
       "0    0       NaN\n",
       "1       NaN\n",
       "57      NaN\n",
       "58      Na...  ...   \n",
       "1                                                 None  ...   \n",
       "2                                                 None  ...   \n",
       "3                                                 None  ...   \n",
       "4                                                 None  ...   \n",
       "..                                                 ...  ...   \n",
       "251                                               None  ...   \n",
       "252                                               None  ...   \n",
       "253                                               None  ...   \n",
       "254                                               None  ...   \n",
       "255                                               None  ...   \n",
       "\n",
       "                                                  2007  \\\n",
       "0    38      NaN\n",
       "39      NaN\n",
       "95      NaN\n",
       "96      Na...   \n",
       "1                                                 None   \n",
       "2                                                 None   \n",
       "3                                                 None   \n",
       "4                                                 None   \n",
       "..                                                 ...   \n",
       "251                                               None   \n",
       "252                                               None   \n",
       "253                                               None   \n",
       "254                                               None   \n",
       "255                                               None   \n",
       "\n",
       "                                                  2008  \\\n",
       "0    39      NaN\n",
       "40      NaN\n",
       "96      NaN\n",
       "97      Na...   \n",
       "1                                                 None   \n",
       "2                                                 None   \n",
       "3                                                 None   \n",
       "4                                                 None   \n",
       "..                                                 ...   \n",
       "251                                               None   \n",
       "252                                               None   \n",
       "253                                               None   \n",
       "254                                               None   \n",
       "255                                               None   \n",
       "\n",
       "                                                  2009  \\\n",
       "0    40      NaN\n",
       "41      NaN\n",
       "97      NaN\n",
       "98      Na...   \n",
       "1                                                 None   \n",
       "2                                                 None   \n",
       "3                                                 None   \n",
       "4                                                 None   \n",
       "..                                                 ...   \n",
       "251                                               None   \n",
       "252                                               None   \n",
       "253                                               None   \n",
       "254                                               None   \n",
       "255                                               None   \n",
       "\n",
       "                                                  2010  \\\n",
       "0    41      NaN\n",
       "42      NaN\n",
       "98      NaN\n",
       "99      Na...   \n",
       "1                                                 None   \n",
       "2                                                 None   \n",
       "3                                                 None   \n",
       "4                                                 None   \n",
       "..                                                 ...   \n",
       "251                                               None   \n",
       "252                                               None   \n",
       "253                                               None   \n",
       "254                                               None   \n",
       "255                                               None   \n",
       "\n",
       "                                                  2011  \\\n",
       "0    42      NaN\n",
       "43      NaN\n",
       "99      NaN\n",
       "100     Na...   \n",
       "1                                                 None   \n",
       "2                                                 None   \n",
       "3                                                 None   \n",
       "4                                                 None   \n",
       "..                                                 ...   \n",
       "251                                               None   \n",
       "252                                               None   \n",
       "253                                               None   \n",
       "254                                               None   \n",
       "255                                               None   \n",
       "\n",
       "                                                  2012  \\\n",
       "0    43      NaN\n",
       "44      NaN\n",
       "100     NaN\n",
       "101     Na...   \n",
       "1                                                 None   \n",
       "2                                                 None   \n",
       "3                                                 None   \n",
       "4                                                 None   \n",
       "..                                                 ...   \n",
       "251                                               None   \n",
       "252                                               None   \n",
       "253                                               None   \n",
       "254                                               None   \n",
       "255                                               None   \n",
       "\n",
       "                                                  2013  \\\n",
       "0    44      NaN\n",
       "45      NaN\n",
       "101     NaN\n",
       "102     Na...   \n",
       "1                                                 None   \n",
       "2                                                 None   \n",
       "3                                                 None   \n",
       "4                                                 None   \n",
       "..                                                 ...   \n",
       "251                                               None   \n",
       "252                                               None   \n",
       "253                                               None   \n",
       "254                                               None   \n",
       "255                                               None   \n",
       "\n",
       "                                                  2014  \\\n",
       "0    45      NaN\n",
       "46      NaN\n",
       "102     NaN\n",
       "103     Na...   \n",
       "1                                                 None   \n",
       "2                                                 None   \n",
       "3                                                 None   \n",
       "4                                                 None   \n",
       "..                                                 ...   \n",
       "251                                               None   \n",
       "252                                               None   \n",
       "253                                               None   \n",
       "254                                               None   \n",
       "255                                               None   \n",
       "\n",
       "                                                  2015 2016  \n",
       "0    46      NaN\n",
       "47      NaN\n",
       "103     NaN\n",
       "104     Na...  NaN  \n",
       "1                                                 None  NaN  \n",
       "2                                                 None  NaN  \n",
       "3                                                 None  NaN  \n",
       "4                                                 None  NaN  \n",
       "..                                                 ...  ...  \n",
       "251                                               None  NaN  \n",
       "252                                               None  NaN  \n",
       "253                                               None  NaN  \n",
       "254                                               None  NaN  \n",
       "255                                               None  NaN  \n",
       "\n",
       "[256 rows x 57 columns]"
      ]
     },
     "execution_count": 248,
     "metadata": {},
     "output_type": "execute_result"
    }
   ],
   "source": [
    "df4"
   ]
  },
  {
   "cell_type": "code",
   "execution_count": null,
   "id": "4d050fc7",
   "metadata": {},
   "outputs": [],
   "source": []
  }
 ],
 "metadata": {
  "kernelspec": {
   "display_name": "Python 3 (ipykernel)",
   "language": "python",
   "name": "python3"
  },
  "language_info": {
   "codemirror_mode": {
    "name": "ipython",
    "version": 3
   },
   "file_extension": ".py",
   "mimetype": "text/x-python",
   "name": "python",
   "nbconvert_exporter": "python",
   "pygments_lexer": "ipython3",
   "version": "3.10.9"
  }
 },
 "nbformat": 4,
 "nbformat_minor": 5
}
